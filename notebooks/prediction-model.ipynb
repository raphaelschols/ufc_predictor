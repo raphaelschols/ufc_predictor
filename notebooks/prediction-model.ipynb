{
 "cells": [
  {
   "cell_type": "markdown",
   "metadata": {},
   "source": [
    "UFC Fight Prediction Using Random Forest\n",
    "\n",
    "Overview\n",
    "\n",
    "This project builds a UFC fight prediction model using the Random Forest Classifier. The workflow involves data cleaning, feature engineering, hyperparameter tuning, training the model, and making predictions on new fights."
   ]
  },
  {
   "cell_type": "markdown",
   "metadata": {},
   "source": [
    "1. Load and Clean Data\n",
    "\n",
    "Read the dataset"
   ]
  },
  {
   "cell_type": "code",
   "execution_count": null,
   "metadata": {},
   "outputs": [],
   "source": [
    "import pandas as pd\n",
    "import os\n",
    "from sklearn.model_selection import train_test_split\n",
    "from sklearn.ensemble import RandomForestClassifier\n",
    "from sklearn.preprocessing import LabelEncoder\n",
    "from sklearn.model_selection import RandomizedSearchCV\n",
    "from scipy.stats import randint\n",
    "from sklearn.metrics import accuracy_score"
   ]
  },
  {
   "cell_type": "code",
   "execution_count": null,
   "metadata": {},
   "outputs": [],
   "source": [
    "# get the file path\n",
    "def get_file_path(folder, file_name):\n",
    "    return os.path.dirname(os.getcwd()) + \"\\\\\" + folder + \"\\\\\" + file_name\n",
    "\n",
    "# read json file\n",
    "def read_file(folder=\"data\\\\transformed\", file_name=None):\n",
    "    return pd.read_csv(get_file_path(folder, file_name))\n",
    "\n",
    "training_data = read_file(file_name=\"training_data.csv\")\n",
    "training_data"
   ]
  },
  {
   "cell_type": "markdown",
   "metadata": {},
   "source": [
    "1. Handle missing values and remove unnecessary columns and  Filter out non-relevant results"
   ]
  },
  {
   "cell_type": "code",
   "execution_count": null,
   "metadata": {},
   "outputs": [],
   "source": [
    "# Drop N/A values\n",
    "training_data = training_data.dropna(subset=[\"fighter_name_a\", \"fighter_name_b\",\"weight_class\",\"event_date_a\",\"event_date_b\"])\n",
    "\n",
    "training_data[\"Losses_a\"] = training_data.Losses_a.fillna(0)\n",
    "\n",
    "# Drop columns that are not features\n",
    "non_feature_columns = [\n",
    "    \"fighter_name_a\",\n",
    "    \"fighter_name_b\",\n",
    "    \"event_date_a\",\n",
    "    \"event_date_b\",\n",
    "]\n",
    "\n",
    "\n",
    "# Remove any draw or nc from the result column\n",
    "training_data = training_data[~training_data.result.str.contains(\"draw\")]\n",
    "training_data = training_data[~training_data.result.str.contains(\"nc\")]\n",
    "\n",
    "training_data = training_data.drop_duplicates()\n",
    "\n",
    "# drop weight class null \n",
    "training_data = training_data.dropna(subset=[\"weight_class\"])\n",
    "\n",
    "training_data.fillna(0, inplace=True)\n",
    "\n",
    "\n",
    "\n",
    "clean_training_data = training_data.copy()\n",
    "\n",
    "clean_training_data.shape"
   ]
  },
  {
   "cell_type": "markdown",
   "metadata": {},
   "source": [
    "2. Feature Engineering\n",
    "\n",
    "Convert categorical features into numerical values\n"
   ]
  },
  {
   "cell_type": "code",
   "execution_count": null,
   "metadata": {},
   "outputs": [],
   "source": [
    "# transform weight class to numerical values\n",
    "weight_class_encoder = LabelEncoder()\n",
    "weight_class_encoder.fit(clean_training_data[\"weight_class\"])\n",
    "\n",
    "clean_training_data[\"weight_class\"] = weight_class_encoder.transform(\n",
    "    clean_training_data[\"weight_class\"]\n",
    ")"
   ]
  },
  {
   "cell_type": "code",
   "execution_count": null,
   "metadata": {},
   "outputs": [],
   "source": [
    "# split features and target (results)\n",
    "X = clean_training_data.drop(columns=non_feature_columns)\n",
    "X = X.drop(columns=[\"result\"])\n",
    "y = clean_training_data[\"result\"]"
   ]
  },
  {
   "cell_type": "markdown",
   "metadata": {},
   "source": [
    "Split features and target variable"
   ]
  },
  {
   "cell_type": "code",
   "execution_count": null,
   "metadata": {},
   "outputs": [],
   "source": [
    "# encode the target\n",
    "le = LabelEncoder()\n",
    "y = le.fit_transform(y)\n",
    "\n",
    "# split the data\n",
    "X_train, X_test, y_train, y_test = train_test_split(\n",
    "    X, y, train_size=0.8, test_size=0.2, random_state=42\n",
    ")"
   ]
  },
  {
   "cell_type": "markdown",
   "metadata": {},
   "source": [
    "3. Train Model\n",
    "\n",
    "Split data and tune hyperparameters using RandomizedSearchCV"
   ]
  },
  {
   "cell_type": "code",
   "execution_count": null,
   "metadata": {},
   "outputs": [],
   "source": [
    "param_dist = {\n",
    "    \"n_estimators\": randint(100, 500),  # More trees improve stability\n",
    "    \"max_depth\": randint(5, 30),  # Prevent overly deep trees\n",
    "    \"min_samples_split\": randint(2, 20),  # Avoid overfitting small splits\n",
    "    \"max_features\": [\"sqrt\", \"log2\", None],  # Control number of features per split\n",
    "}\n",
    "\n",
    "random_search = RandomizedSearchCV(\n",
    "    estimator=RandomForestClassifier(),\n",
    "    param_distributions=param_dist,\n",
    "    n_iter=50,  # Increase if you have time for better tuning\n",
    "    scoring=\"accuracy\",  # We use accuracy as our metric\n",
    "    random_state=42,\n",
    "    n_jobs=-1,  # Use all available CPUs for efficiency\n",
    ")\n",
    "\n",
    "random_search.fit(X_train, y_train)\n",
    "\n",
    "print(\"Best Parameters:\", random_search.best_params_)\n",
    "print(\"Best Accuracy Score:\", random_search.best_score_)"
   ]
  },
  {
   "cell_type": "markdown",
   "metadata": {},
   "source": [
    "Train final model with optimal parameters and evalute accuracy"
   ]
  },
  {
   "cell_type": "code",
   "execution_count": null,
   "metadata": {},
   "outputs": [],
   "source": [
    "# train the model\n",
    "model = RandomForestClassifier(\n",
    "    max_depth=7,\n",
    "    max_features=None,\n",
    "    min_samples_split=7,\n",
    "    n_estimators=236,\n",
    "    random_state=42,\n",
    ")\n",
    "model.fit(X_train, y_train)\n",
    "\n",
    "# make predictions\n",
    "y_pred = model.predict(X_test)\n",
    "\n",
    "# evaluate the model\n",
    "accuracy = accuracy_score(y_test, y_pred)\n",
    "print(f\"Accuracy: {accuracy}\")"
   ]
  },
  {
   "cell_type": "markdown",
   "metadata": {},
   "source": [
    "Feature Importance Visualization"
   ]
  },
  {
   "cell_type": "code",
   "execution_count": null,
   "metadata": {},
   "outputs": [],
   "source": [
    "# Visualize the model the most important features\n",
    "import matplotlib.pyplot as plt\n",
    "import seaborn as sns\n",
    "\n",
    "feature_importances = model.feature_importances_\n",
    "features = X.columns\n",
    "df = pd.DataFrame({\"features\": features, \"importance\": feature_importances})\n",
    "df = df.sort_values(by=\"importance\", ascending=False)\n",
    "\n",
    "plt.figure(figsize=(16, 10))\n",
    "sns.barplot(x=df[\"importance\"], y=df[\"features\"])\n",
    "plt.title(\"Feature Importance\")\n",
    "plt.show()"
   ]
  },
  {
   "cell_type": "markdown",
   "metadata": {},
   "source": [
    "5. Match Prediction"
   ]
  },
  {
   "cell_type": "markdown",
   "metadata": {},
   "source": [
    "Prepare fighter match data"
   ]
  },
  {
   "cell_type": "code",
   "execution_count": null,
   "metadata": {},
   "outputs": [],
   "source": [
    "def df_selection(df):\n",
    "\n",
    "    # Delete result column\n",
    "    df = df.drop(columns=[\"result\"])\n",
    "\n",
    "    # find all columns ending with a and b\n",
    "    fighter_columns = [col for col in df.columns if col.endswith(\"_a\")]\n",
    "    opponent_columns = [col for col in df.columns if col.endswith(\"_b\")]\n",
    "\n",
    "    # select all columns ending with a and b\n",
    "    df_a, df_b = df[fighter_columns], df[opponent_columns]\n",
    "\n",
    "    # remove the suffixes\n",
    "    df_a.columns = [col[:-2] if col.endswith(\"_a\") else col for col in df_a.columns]\n",
    "    df_b.columns = [col[:-2] if col.endswith(\"_b\") else col for col in df_b.columns]\n",
    "\n",
    "    df = pd.concat([df_a, df_b], axis=1)\n",
    "\n",
    "    # remove duplicate column & order by event date\n",
    "    df = df.loc[:, ~df.columns.duplicated()]\n",
    "    df = df.sort_values(by=\"event_date\", ascending=False)\n",
    "\n",
    "    # get most recent per fighter\n",
    "    df = df.drop_duplicates(subset=[\"fighter_name\"], keep=\"first\")\n",
    "\n",
    "    return df"
   ]
  },
  {
   "cell_type": "code",
   "execution_count": null,
   "metadata": {},
   "outputs": [],
   "source": [
    "selection_df = df_selection(training_data)\n"
   ]
  },
  {
   "cell_type": "markdown",
   "metadata": {},
   "source": [
    "Create fight matchup features"
   ]
  },
  {
   "cell_type": "code",
   "execution_count": null,
   "metadata": {},
   "outputs": [],
   "source": [
    "def create_match(\n",
    "    selection_df: pd.DataFrame,\n",
    "    fighter_a: str | list,\n",
    "    fighter_b: str | list,\n",
    "    weight_class: str | list\n",
    ") -> pd.DataFrame:\n",
    "\n",
    "    if isinstance(fighter_a, str):\n",
    "        fighter_a = [fighter_a]\n",
    "        fighter_b = [fighter_b]\n",
    "        weight_class = [weight_class]\n",
    "\n",
    "    if len(fighter_a) != len(fighter_b) or len(fighter_a) != len(weight_class):\n",
    "        raise ValueError(\"The number of fighters and weight_classes must be the same\")\n",
    "\n",
    "    # Remove event date from the selection_df\n",
    "    selection_df = selection_df.drop(columns=[\"event_date\"])\n",
    "\n",
    "    # get the most recent data for each fighter\n",
    "    fighter_a_data = selection_df.set_index(\"fighter_name\").loc[fighter_a].reset_index()\n",
    "    fighter_b_data = selection_df.set_index(\"fighter_name\").loc[fighter_b].reset_index()\n",
    "\n",
    "    # rename the columns add suffixes\n",
    "\n",
    "    fighter_a_data.columns = [f\"{col}_a\" for col in fighter_a_data.columns]\n",
    "    fighter_b_data.columns = [f\"{col}_b\" for col in fighter_b_data.columns]\n",
    "\n",
    "    # reset the index\n",
    "    fighter_a_data = fighter_a_data.reset_index(drop=True)\n",
    "    fighter_b_data = fighter_b_data.reset_index(drop=True)\n",
    "\n",
    "    # merge on index\n",
    "    features = pd.concat([fighter_a_data, fighter_b_data], axis=1)\n",
    "\n",
    "    # weight class to series\n",
    "    features[\"weight_class\"] = pd.Series(weight_class)\n",
    "\n",
    "    # transform weight class to numerical values\n",
    "    features[\"weight_class\"] = weight_class_encoder.transform(features[\"weight_class\"])\n",
    "\n",
    "    # weight class as first column\n",
    "    features = features[\n",
    "        [\"weight_class\"] + [col for col in features.columns if col != \"weight_class\"]\n",
    "    ]\n",
    "\n",
    "    return features"
   ]
  },
  {
   "cell_type": "markdown",
   "metadata": {},
   "source": [
    "Predict fight outcomes"
   ]
  },
  {
   "cell_type": "code",
   "execution_count": null,
   "metadata": {},
   "outputs": [],
   "source": [
    "# Function to predict the outcome of a fight\n",
    "\n",
    "\n",
    "def predict_outcome(training_data, features: pd.DataFrame) -> pd.DataFrame:\n",
    "\n",
    "    # train model on all the data\n",
    "    model = RandomForestClassifier(\n",
    "        max_depth=7, min_samples_split=7, n_estimators=236, random_state=42\n",
    "    )\n",
    "\n",
    "    X, y = clean_training_data.drop(columns=non_feature_columns), training_data[\"result\"]\n",
    "\n",
    "    X = X.drop(columns=[\"result\"])\n",
    "    y = le.fit_transform(y)\n",
    "\n",
    "    model.fit(X, y)\n",
    "\n",
    "    # remove fighter_name\n",
    "    x = features.drop(columns=[\"fighter_name_a\", \"fighter_name_b\"])\n",
    "\n",
    "    # change x sequence to match the training data\n",
    "    x = x[X.columns]\n",
    "\n",
    "    # make predictions\n",
    "    y_pred = model.predict(x)\n",
    "\n",
    "    # add probability of the winning class\n",
    "    y_pred_proba = model.predict_proba(x)\n",
    "    y_pred_proba = y_pred_proba.max(axis=1)\n",
    "\n",
    "    # if b than loss else win\n",
    "    y_pred = [\"loss\" if result == 1 else \"win\" for result in y_pred]\n",
    "\n",
    "    predictions_df = pd.DataFrame(\n",
    "        {\n",
    "            \"Fighter\": features[\"fighter_name_a\"].values,\n",
    "            \"Opponent\": features[\"fighter_name_b\"].values,\n",
    "            # original y values\n",
    "            \"Result\": y_pred,\n",
    "            \"Vote Share\": y_pred_proba,\n",
    "        }\n",
    "    )\n",
    "\n",
    "    return predictions_df\n",
    "\n",
    "\n",
    "features = create_match(\n",
    "    selection_df,\n",
    "    fighter_a=[\n",
    "        \"Alex Pereira\",\n",
    "        \"Jon Jones\",\n",
    "        \"Islam Makhachev\",\n",
    "        \"Alexander Volkanovski\",\n",
    "        \"Belal Muhammad\",\n",
    "        \"Paddy Pimblett\",\n",
    "        \"Khamzat Chimaev\",\n",
    "    ],\n",
    "    fighter_b=[\n",
    "        \"Magomed Ankalaev\",\n",
    "        \"Tom Aspinall\",\n",
    "        \"Ilia Topuria\",\n",
    "        \"Diego Lopes\",\n",
    "        \"Jack Della Maddalena\",\n",
    "        \"Michael Chandler\",\n",
    "        \"Dricus Du Plessis\",\n",
    "    ],\n",
    "    weight_class=[\n",
    "        \"Light Heavyweight\",\n",
    "        \"Heavyweight\",\n",
    "        \"Lightweight\",\n",
    "        \"Featherweight\",\n",
    "        \"Welterweight\",\n",
    "        \"Lightweight\",\n",
    "        \"Middleweight\",\n",
    "    ],\n",
    ")\n",
    "\n",
    "\n",
    "outcome = predict_outcome(training_data, features)\n",
    "\n",
    "outcome"
   ]
  },
  {
   "cell_type": "code",
   "execution_count": null,
   "metadata": {},
   "outputs": [],
   "source": []
  }
 ],
 "metadata": {
  "kernelspec": {
   "display_name": "venv",
   "language": "python",
   "name": "python3"
  },
  "language_info": {
   "codemirror_mode": {
    "name": "ipython",
    "version": 3
   },
   "file_extension": ".py",
   "mimetype": "text/x-python",
   "name": "python",
   "nbconvert_exporter": "python",
   "pygments_lexer": "ipython3",
   "version": "3.12.9"
  }
 },
 "nbformat": 4,
 "nbformat_minor": 2
}
